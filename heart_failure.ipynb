{
  "nbformat": 4,
  "nbformat_minor": 0,
  "metadata": {
    "colab": {
      "provenance": []
    },
    "kernelspec": {
      "name": "python3",
      "display_name": "Python 3"
    },
    "language_info": {
      "name": "python"
    }
  },
  "cells": [
    {
      "cell_type": "code",
      "execution_count": null,
      "metadata": {
        "id": "JgTnwksVDqLG"
      },
      "outputs": [],
      "source": [
        "!pip install pandas\n",
        "!pip install scikit-learn"
      ]
    },
    {
      "cell_type": "markdown",
      "source": [
        "**Arbol de Decision**"
      ],
      "metadata": {
        "id": "H3nnYNBpFDAB"
      }
    },
    {
      "cell_type": "code",
      "source": [
        "import pandas as pd\n",
        "from sklearn.model_selection import train_test_split\n",
        "from sklearn.tree import DecisionTreeClassifier\n",
        "from sklearn.metrics import classification_report\n",
        "\n",
        "# Carga el conjunto de datos en un DataFrame de Pandas\n",
        "df = pd.read_csv('heart_failure.csv')\n",
        "\n",
        "# Asegúrate de que no haya valores nulos en el DataFrame\n",
        "df = df.dropna()\n",
        "\n",
        "# Divide los datos en características (X) y etiquetas (y)\n",
        "X = df.drop('DEATH_EVENT', axis=1)  # características\n",
        "y = df['DEATH_EVENT']  # etiquetas\n",
        "\n",
        "# Divide los datos en conjuntos de entrenamiento y prueba\n",
        "X_train, X_test, y_train, y_test = train_test_split(X, y, test_size=0.20, random_state=42)\n",
        "\n",
        "# Entrena el clasificador de árbol de decisiones\n",
        "clf = DecisionTreeClassifier()\n",
        "clf.fit(X_train, y_train)\n",
        "\n",
        "# Realiza predicciones sobre los datos de prueba\n",
        "predictions = clf.predict(X_test)\n",
        "\n",
        "# Imprime el informe de clasificación\n",
        "print(classification_report(y_test, predictions))\n",
        "\n",
        "# Angel Patiño"
      ],
      "metadata": {
        "colab": {
          "base_uri": "https://localhost:8080/",
          "height": 0
        },
        "id": "wHMZGpk0EJBY",
        "outputId": "8fe3cc42-104a-409b-fe75-efc99c387131"
      },
      "execution_count": 7,
      "outputs": [
        {
          "output_type": "stream",
          "name": "stdout",
          "text": [
            "              precision    recall  f1-score   support\n",
            "\n",
            "           0       0.67      0.83      0.74        35\n",
            "           1       0.65      0.44      0.52        25\n",
            "\n",
            "    accuracy                           0.67        60\n",
            "   macro avg       0.66      0.63      0.63        60\n",
            "weighted avg       0.66      0.67      0.65        60\n",
            "\n"
          ]
        }
      ]
    },
    {
      "cell_type": "code",
      "source": [
        "import pandas as pd\n",
        "from sklearn.model_selection import train_test_split\n",
        "from sklearn.svm import SVC\n",
        "from sklearn.metrics import classification_report, precision_score\n",
        "\n",
        "# Carga el conjunto de datos en un DataFrame de Pandas\n",
        "df = pd.read_csv('heart_failure.csv')\n",
        "\n",
        "# Asegúrate de que no haya valores nulos en el DataFrame\n",
        "df = df.dropna()\n",
        "\n",
        "# Divide los datos en características (X) y etiquetas (y)\n",
        "X = df.drop('DEATH_EVENT', axis=1)  # características\n",
        "y = df['DEATH_EVENT']  # etiquetas\n",
        "\n",
        "# Divide los datos en conjuntos de entrenamiento y prueba\n",
        "X_train, X_test, y_train, y_test = train_test_split(X, y, test_size=0.20, random_state=42)\n",
        "\n",
        "# Entrena el clasificador SVM\n",
        "clf = SVC(kernel='linear')\n",
        "clf.fit(X_train, y_train)\n",
        "\n",
        "# Realiza predicciones sobre los datos de prueba\n",
        "predictions = clf.predict(X_test)\n",
        "\n",
        "# Calcula la precisión\n",
        "precision = precision_score(y_test, predictions, pos_label=1)\n",
        "\n",
        "# Imprime el informe de clasificación y la precisión\n",
        "print(\"Precisión:\", precision)\n",
        "print(classification_report(y_test, predictions))\n",
        "#Angel Patiño"
      ],
      "metadata": {
        "colab": {
          "base_uri": "https://localhost:8080/",
          "height": 0
        },
        "collapsed": true,
        "id": "gtMorAxGGEdu",
        "outputId": "ddb924e9-9e2b-4a6c-cdff-b4195f16aa06"
      },
      "execution_count": 9,
      "outputs": [
        {
          "output_type": "stream",
          "name": "stdout",
          "text": [
            "Precisión: 0.8125\n",
            "              precision    recall  f1-score   support\n",
            "\n",
            "           0       0.73      0.91      0.81        35\n",
            "           1       0.81      0.52      0.63        25\n",
            "\n",
            "    accuracy                           0.75        60\n",
            "   macro avg       0.77      0.72      0.72        60\n",
            "weighted avg       0.76      0.75      0.74        60\n",
            "\n"
          ]
        }
      ]
    },
    {
      "cell_type": "code",
      "source": [
        "import pandas as pd\n",
        "from sklearn.model_selection import train_test_split\n",
        "from sklearn.svm import SVC\n",
        "from sklearn.metrics import classification_report, precision_score\n",
        "\n",
        "# Carga el conjunto de datos en un DataFrame de Pandas\n",
        "df = pd.read_csv('heart_failure.csv')\n",
        "\n",
        "# Asegúrate de que no haya valores nulos en el DataFrame\n",
        "df = df.dropna()\n",
        "\n",
        "# Divide los datos en características (X) y etiquetas (y)\n",
        "X = df.drop('DEATH_EVENT', axis=1)  # características\n",
        "y = df['DEATH_EVENT']  # etiquetas\n",
        "\n",
        "# Divide los datos en conjuntos de entrenamiento y prueba\n",
        "X_train, X_test, y_train, y_test = train_test_split(X, y, test_size=0.20, random_state=42)\n",
        "\n",
        "# Entrena el clasificador SVM\n",
        "clf = SVC(kernel='linear')\n",
        "clf.fit(X_train, y_train)\n",
        "\n",
        "# Realiza predicciones sobre los datos de prueba\n",
        "predictions = clf.predict(X_test)\n",
        "\n",
        "# Calcula la precisión\n",
        "precision = precision_score(y_test, predictions, pos_label=1)\n",
        "\n",
        "# Imprime el informe de clasificación y la precisión\n",
        "print(\"Precisión:\", precision)\n",
        "print(classification_report(y_test, predictions))\n"
      ],
      "metadata": {
        "colab": {
          "base_uri": "https://localhost:8080/",
          "height": 0
        },
        "id": "EUrykFT7I3fd",
        "outputId": "192a0266-e629-45cb-ac76-76cf35c9191a"
      },
      "execution_count": 10,
      "outputs": [
        {
          "output_type": "stream",
          "name": "stdout",
          "text": [
            "Precisión: 0.8125\n",
            "              precision    recall  f1-score   support\n",
            "\n",
            "           0       0.73      0.91      0.81        35\n",
            "           1       0.81      0.52      0.63        25\n",
            "\n",
            "    accuracy                           0.75        60\n",
            "   macro avg       0.77      0.72      0.72        60\n",
            "weighted avg       0.76      0.75      0.74        60\n",
            "\n"
          ]
        }
      ]
    },
    {
      "cell_type": "markdown",
      "source": [],
      "metadata": {
        "id": "6V4_16qPGfKd"
      }
    },
    {
      "cell_type": "code",
      "source": [
        "!pio"
      ],
      "metadata": {
        "id": "Z8ndroxMNBtU"
      },
      "execution_count": null,
      "outputs": []
    }
  ]
}